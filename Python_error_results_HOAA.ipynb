{
  "nbformat": 4,
  "nbformat_minor": 0,
  "metadata": {
    "colab": {
      "provenance": []
    },
    "kernelspec": {
      "name": "python3",
      "display_name": "Python 3"
    },
    "language_info": {
      "name": "python"
    }
  },
  "cells": [
    {
      "cell_type": "markdown",
      "source": [
        "# Code For Plus One Addder"
      ],
      "metadata": {
        "id": "Gmxlrf9v2-YP"
      }
    },
    {
      "cell_type": "code",
      "execution_count": null,
      "metadata": {
        "colab": {
          "base_uri": "https://localhost:8080/"
        },
        "id": "8Ks51ktIaTTe",
        "outputId": "667a2eef-d4d3-48ff-84e7-abb39b386615"
      },
      "outputs": [
        {
          "output_type": "execute_result",
          "data": {
            "text/plain": [
              "[0, 1, 0, 1, 0, 0, 0, 0]"
            ]
          },
          "metadata": {},
          "execution_count": 1
        }
      ],
      "source": [
        "def bin_to_dec(binvalue): #  binary to decimal convertor\n",
        "  temp=0\n",
        "  for i in range(len(binvalue)):\n",
        "    temp+=binvalue[i]*(2**i)\n",
        "  return temp\n",
        "binval=[1,1,1]\n",
        "#print(bin_to_dec(binval))\n",
        "def dec_to_bin(decval,val): # decimal to binary convertor\n",
        "  tmp=[]\n",
        "  for i in range(len(bin(decval))):\n",
        "    if i >=2:\n",
        "      tmp.append(int(bin(decval)[i]))\n",
        "  tmp=tmp[::-1]\n",
        "  if(len(tmp)<val):\n",
        "    [tmp.append(0) for i in range(val-len(tmp))]\n",
        "  return tmp\n",
        "dec_to_bin(10,8)"
      ]
    },
    {
      "cell_type": "markdown",
      "source": [
        "## Subtraction case using P1A"
      ],
      "metadata": {
        "id": "BL_pdFLX4w5M"
      }
    },
    {
      "cell_type": "code",
      "source": [
        "def conv_adder(a,b,cin=0): # conventional Full adder block\n",
        "  carry_bit=cin\n",
        "  total=[]\n",
        "  for i in range(len(a)):\n",
        "    total.append((a[i]^ b[i]^carry_bit))\n",
        "    carry_bit= (a[i] & b[i]) | (carry_bit & (a[i] ^ b[i]))\n",
        "  total.append(carry_bit)\n",
        "  return total\n",
        "A=[0,1,0]\n",
        "B=[1,1,1]\n",
        "print(conv_adder(A,B))"
      ],
      "metadata": {
        "colab": {
          "base_uri": "https://localhost:8080/"
        },
        "id": "g-4MNVJVbzPs",
        "outputId": "8163d7c1-187d-48c4-85ae-d5d5cbe23b05"
      },
      "execution_count": null,
      "outputs": [
        {
          "output_type": "stream",
          "name": "stdout",
          "text": [
            "[1, 0, 0, 1]\n"
          ]
        }
      ]
    },
    {
      "cell_type": "code",
      "source": [
        "def P1A(a,b,cin=0): # plus one adder block\n",
        "  carry_bit=cin\n",
        "  total=[]\n",
        "  for i in range(len(a)):\n",
        "    if(i==0):\n",
        "      total.append((a[i] | ~(b[i] ^ carry_bit)+2))\n",
        "      carry_bit= (b[i] | carry_bit)\n",
        "    else:\n",
        "      total.append((a[i]^ b[i]^carry_bit))\n",
        "      carry_bit= (a[i] & b[i]) | (carry_bit & (a[i] ^ b[i]))\n",
        "  total.append(carry_bit)\n",
        "  return total\n",
        "A=[1,1,0]\n",
        "B=[0,1,1]\n",
        "print(P1A(A,B))"
      ],
      "metadata": {
        "colab": {
          "base_uri": "https://localhost:8080/"
        },
        "id": "IvfiAr9TeDhz",
        "outputId": "252da6dd-9f47-4a28-f838-43f051145b99"
      },
      "execution_count": null,
      "outputs": [
        {
          "output_type": "stream",
          "name": "stdout",
          "text": [
            "[1, 0, 0, 1]\n"
          ]
        }
      ]
    },
    {
      "cell_type": "code",
      "source": [
        "from statistics import mean\n",
        "import numpy as np\n",
        "import matplotlib\n",
        "def compute_error(correct_op,proposed_op): # this function takes 2 inputs as accuracte values and proposed calculated values\n",
        "\n",
        "  maxmacop= max(correct_op)\n",
        "\n",
        "  D = [x-y for x,y in zip(correct_op, proposed_op)]\n",
        "  ED = [abs(x-y) for x,y in zip(correct_op, proposed_op)]\n",
        "  RED = [abs(x-y) if (abs(y)==0)  else abs((x-y)/abs(y)) for x,y in zip(correct_op, proposed_op)]\n",
        "\n",
        "  meanerror= sum(D)/ len(D)\n",
        "  meanerrordistance = sum(ED)/ len(ED)\n",
        "  meanrelativeerrordistance = sum(RED)/ len(RED)\n",
        "\n",
        "  nommralised_mean_error= meanerror /maxmacop\n",
        "  nommralised_mean_error_distance=  meanerrordistance /maxmacop\n",
        "  normalised_max_error_distance= max(ED)/maxmacop\n",
        "\n",
        "  print(max(correct_op))\n",
        "  print(\"Normalised Mean Error: \" + str(nommralised_mean_error))\n",
        "  print(\"Normalised Mean Error Distance : \" + str(nommralised_mean_error_distance))\n",
        "  print(\"Mean Relative Error Distance: \" + str(meanrelativeerrordistance))\n",
        "  print(\"Normalised Max Error Distance : \" + str(normalised_max_error_distance))\n"
      ],
      "metadata": {
        "id": "beknLzWNe4x7"
      },
      "execution_count": null,
      "outputs": []
    },
    {
      "cell_type": "code",
      "source": [
        "conv_data=[]\n",
        "p1a_data=[]\n",
        "# for performing the error check we have done for 8 bit going through 512*512\n",
        "\n",
        "for i in range(512):\n",
        "  for j in range(512):\n",
        "    i_val=dec_to_bin(i,9)\n",
        "    j_val=dec_to_bin(j,9)\n",
        "    conv_data.append(bin_to_dec(conv_adder(i_val,j_val,1)))\n",
        "    p1a_data.append(bin_to_dec(P1A(i_val,j_val)))\n",
        "compute_error(conv_data,p1a_data)"
      ],
      "metadata": {
        "colab": {
          "base_uri": "https://localhost:8080/"
        },
        "id": "M7A4YP3rgbkF",
        "outputId": "cca5dc5e-f5d0-4700-bb21-49a3b9165754"
      },
      "execution_count": null,
      "outputs": [
        {
          "output_type": "stream",
          "name": "stdout",
          "text": [
            "1023\n",
            "Normalised Mean Error: 0.00024437927663734115\n",
            "Normalised Mean Error Distance : 0.00024437927663734115\n",
            "Mean Relative Error Distance: 0.0006834008846438833\n",
            "Normalised Max Error Distance : 0.0009775171065493646\n"
          ]
        }
      ]
    },
    {
      "cell_type": "markdown",
      "source": [
        "## Rounds To Even using P1A"
      ],
      "metadata": {
        "id": "t4mL-sf94iPX"
      }
    },
    {
      "cell_type": "code",
      "source": [
        "def rounds_to_even(data,opbit):  # rounding to even (case 2)  using P1A\n",
        "  total=[]\n",
        "  carry_bit=0\n",
        "  for i in range(len(data)):\n",
        "    if i < len(data)-opbit:\n",
        "      total.append((~(data[i] ^ carry_bit)+2))\n",
        "      carry_bit= (data[i] | carry_bit)\n",
        "    else:\n",
        "      total.append((data[i]^ 0^carry_bit))\n",
        "      carry_bit= (carry_bit & (0 ^ data[i]))\n",
        "  total.append(carry_bit)\n",
        "  #print(total,bin_to_dec(total))\n",
        "  return total[len(total)-opbit:]\n",
        "d=511\n",
        "rounded_value=rounds_to_even(dec_to_bin(d,8),4)\n",
        "print(rounded_value,bin_to_dec(rounded_value))"
      ],
      "metadata": {
        "colab": {
          "base_uri": "https://localhost:8080/"
        },
        "id": "WQ9P3CEakK4P",
        "outputId": "b927b321-1a2c-46ba-d166-bcf4444b5f9f"
      },
      "execution_count": null,
      "outputs": [
        {
          "output_type": "stream",
          "name": "stdout",
          "text": [
            "[0, 0, 0, 1] 8\n"
          ]
        }
      ]
    },
    {
      "cell_type": "code",
      "source": [
        "def correct_rounding(b,opbit): # rounding to even using Conventional Full Adder\n",
        "  carry_bit=0\n",
        "  total=[]\n",
        "  for i in range(len(b)):\n",
        "    if i< len(b)-opbit:\n",
        "      total.append((b[i]^carry_bit)^1)\n",
        "      carry_bit= (carry_bit | b[i])\n",
        "    else:\n",
        "      total.append((b[i]^ 0^carry_bit))\n",
        "      carry_bit= (carry_bit & (0 ^ b[i]))\n",
        "  total.append(carry_bit)\n",
        "  return total[len(total)-opbit:]\n",
        "print(bin_to_dec(correct_rounding(dec_to_bin(511,8),4)))"
      ],
      "metadata": {
        "colab": {
          "base_uri": "https://localhost:8080/"
        },
        "id": "oNfh2muvtG2c",
        "outputId": "b3e2a056-5744-46f5-aba3-63b70d075155"
      },
      "execution_count": null,
      "outputs": [
        {
          "output_type": "stream",
          "name": "stdout",
          "text": [
            "8\n"
          ]
        }
      ]
    },
    {
      "cell_type": "code",
      "source": [
        "correct_rounding_data=[]\n",
        "p1a_rounding_data=[]\n",
        "# for performing thee error check we have done for 8 bit\n",
        "\n",
        "for i in range(1,512):\n",
        "  for j in range(8):\n",
        "    i_val=dec_to_bin(i,9)\n",
        "    conv_data.append(bin_to_dec(correct_rounding(i_val,j)))\n",
        "    p1a_data.append(bin_to_dec(rounds_to_even(i_val,j)))\n",
        "compute_error(conv_data,p1a_data)"
      ],
      "metadata": {
        "colab": {
          "base_uri": "https://localhost:8080/"
        },
        "id": "W9As46Xxrvaa",
        "outputId": "c340dc2e-9d77-4639-940a-04dcdf524e51"
      },
      "execution_count": null,
      "outputs": [
        {
          "output_type": "stream",
          "name": "stdout",
          "text": [
            "1023\n",
            "Normalised Mean Error: 0.00024062682583167748\n",
            "Normalised Mean Error Distance : 0.00024062682583167748\n",
            "Mean Relative Error Distance: 0.0006729072444487746\n",
            "Normalised Max Error Distance : 0.0009775171065493646\n"
          ]
        }
      ]
    },
    {
      "cell_type": "code",
      "source": [
        "dec_to_bin(511,9)"
      ],
      "metadata": {
        "colab": {
          "base_uri": "https://localhost:8080/"
        },
        "id": "iOhi9lutw1WL",
        "outputId": "b8b9df04-c63a-4254-d4ee-ce2ea9f03211"
      },
      "execution_count": null,
      "outputs": [
        {
          "output_type": "execute_result",
          "data": {
            "text/plain": [
              "[1, 1, 1, 1, 1, 1, 1, 1, 1]"
            ]
          },
          "metadata": {},
          "execution_count": 9
        }
      ]
    },
    {
      "cell_type": "markdown",
      "source": [
        "## SIGMOID using P1A"
      ],
      "metadata": {
        "id": "rAlH4Yz147He"
      }
    },
    {
      "cell_type": "code",
      "source": [
        "#a+b/a+b+1\n",
        "sig_corr=[]\n",
        "sig_p1a=[]\n",
        "for i in range(0,512):\n",
        "  for j in range(0,512):\n",
        "    i_val=dec_to_bin(i,9)\n",
        "    j_val=dec_to_bin(j,9)\n",
        "    sig_corr.append(bin_to_dec(conv_adder(i_val,j_val))/bin_to_dec(conv_adder(i_val,j_val,1)))\n",
        "    sig_p1a.append(bin_to_dec(conv_adder(i_val,j_val))/bin_to_dec(P1A(i_val,j_val)))"
      ],
      "metadata": {
        "id": "p7K1IiUB1Nex"
      },
      "execution_count": null,
      "outputs": []
    },
    {
      "cell_type": "code",
      "source": [
        "compute_error(sig_corr,sig_p1a)"
      ],
      "metadata": {
        "colab": {
          "base_uri": "https://localhost:8080/"
        },
        "id": "y7qvsww0VUhP",
        "outputId": "b9c09aee-c50d-41e8-aa1a-a93aa89b7ed9"
      },
      "execution_count": null,
      "outputs": [
        {
          "output_type": "stream",
          "name": "stdout",
          "text": [
            "0.9990224828934506\n",
            "Normalised Mean Error: -0.0006766101985635702\n",
            "Normalised Mean Error Distance : 0.0006766101985635702\n",
            "Mean Relative Error Distance: 0.0006759488005200086\n",
            "Normalised Max Error Distance : 0.5004892367906066\n"
          ]
        }
      ]
    }
  ]
}